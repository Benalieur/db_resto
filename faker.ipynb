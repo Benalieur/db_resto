{
 "cells": [
  {
   "cell_type": "code",
   "execution_count": 21,
   "metadata": {},
   "outputs": [],
   "source": [
    "import sqlalchemy as db\n",
    "from sqlalchemy import *\n",
    "from faker import Faker\n",
    "import sys\n",
    "import random\n",
    "import datetime"
   ]
  },
  {
   "cell_type": "code",
   "execution_count": 22,
   "metadata": {},
   "outputs": [],
   "source": [
    "metadata = MetaData()\n",
    "faker = Faker()"
   ]
  },
  {
   "cell_type": "code",
   "execution_count": 23,
   "metadata": {},
   "outputs": [],
   "source": [
    "engine = db.create_engine(\"sqlite:///restaurant.db\")\n",
    "metadata.reflect(engine)"
   ]
  },
  {
   "cell_type": "code",
   "execution_count": 24,
   "metadata": {},
   "outputs": [],
   "source": [
    "engine = db.create_engine('sqlite:///base.sqlite') #Create test.sqlite automatically\n",
    "connection = engine.connect()\n",
    "metadata = db.MetaData()\n",
    "emp = db.Table('Pays', metadata,\n",
    "              db.Column('pays', db.String(255),primary_key=True),\n",
    "              )\n",
    "emp = db.Table('Restaurant', metadata,\n",
    "              db.Column('code_postal', db.String(255), nullable=False,primary_key=True),\n",
    "              db.Column('pays', db.String(255), ForeignKey('Pays.pays')),\n",
    "              db.Column('capacité', db.Integer()),\n",
    "              db.Column('espace_enfant', db.Integer()),\n",
    "              db.Column('service_rapide', db.Integer()),\n",
    "              db.Column('parking', db.Integer, default=1),\n",
    "              db.Column('accessibilite', db.Integer()),\n",
    "              )\n",
    "emp = db.Table('Employe', metadata,\n",
    "              db.Column('id_employe',  db.Integer(),primary_key=True),\n",
    "              db.Column('code_postal', db.String(200), ForeignKey('Restaurant.code_postal')),\n",
    "              db.Column('id_superieur', db.Integer(), ForeignKey('Employe.id_employe')),\n",
    "              db.Column('poste', db.String(200),nullable=False),\n",
    "              db.Column('nom', db.String(200),nullable=False),\n",
    "              db.Column('adresse', db.String(200), nullable=False),\n",
    "              db.Column('note',db.Float())\n",
    "              )\n",
    "emp = db.Table('RIB', metadata,\n",
    "              db.Column('id_employe',  db.Integer(),ForeignKey('Employe.id_employe'), nullable=False,primary_key=True),\n",
    "              db.Column('iban', db.String(255),nullable=False),\n",
    "              db.Column('bic', db.String(),nullable=False),\n",
    "              db.Column('propriètaire', db.String(),nullable=False),\n",
    "              db.Column('adresse', db.String(), nullable=False),\n",
    "              )\n",
    "emp = db.Table('Paie', metadata,\n",
    "              db.Column('id_employe',  db.Integer(),ForeignKey('Employe.id_employe'), nullable=False,primary_key=True),\n",
    "              db.Column('date', db.String(),nullable=False),\n",
    "              db.Column('salaire_net', db.Float(),nullable=False),\n",
    "              )\n",
    "emp = db.Table('CarteMenu', metadata,\n",
    "              db.Column('pays',  db.Integer(),ForeignKey('Pays.pays'), nullable=False,primary_key=True),\n",
    "              db.Column('id_menu', db.Integer(),ForeignKey('Menu.id_menu'),primary_key=True,nullable=False),\n",
    "              db.Column('salaire_net', db.Float(),nullable=False),\n",
    "              )\n",
    "emp = db.Table('Menu', metadata,\n",
    "              db.Column('id_menu',  db.Integer(), nullable=False,primary_key=True),\n",
    "              db.Column('boisson', db.String(),ForeignKey('Item.nom_item'),nullable=False),\n",
    "              db.Column('plat', db.String(),ForeignKey('Item.nom_item'),nullable=False),\n",
    "              db.Column('dessert', db.String(),ForeignKey('Item.nom_item'),nullable=False),\n",
    "              db.Column('prix', db.Float(),nullable=False),\n",
    "              )\n",
    "emp = db.Table('Item', metadata,\n",
    "              db.Column('nom_item',  db.String(), nullable=False,primary_key=True),\n",
    "              db.Column('type', db.String(),nullable=False),\n",
    "              db.Column('prix', db.Float(),nullable=False),\n",
    "              )\n",
    "emp = db.Table('CarteItem', metadata,\n",
    "              db.Column('pays',  db.Integer(),ForeignKey('Pays.pays'), nullable=False,primary_key=True),\n",
    "              db.Column('id_item', db.Integer(),ForeignKey('Item.nom_item'),primary_key=True,nullable=False),    \n",
    "              )\n",
    "\n",
    "emp = db.Table('PanierMenu', metadata,\n",
    "              db.Column('id_bill',  db.Integer(),ForeignKey('Bill.id_bill'), nullable=False,primary_key=True),\n",
    "              db.Column('id_menu', db.Integer(),ForeignKey('Menu.id_menu'),nullable=False),\n",
    "              db.Column('quantité', db.Float(),nullable=False),\n",
    "              )\n",
    "emp = db.Table('PanierItem', metadata,\n",
    "              db.Column('nom_item',  db.String(),ForeignKey('Item.nom_item'), nullable=False,primary_key=True),\n",
    "              db.Column('id_bill', db.Integer(),ForeignKey('Bill.id_bill'),nullable=False),\n",
    "              db.Column('quantité', db.Float(),nullable=False),\n",
    "              )\n",
    "\n",
    "emp = db.Table('Bill', metadata,\n",
    "              db.Column('id_bill', db.Integer(),primary_key=True, nullable=False),\n",
    "              db.Column('code_postal', db.String(255), ForeignKey('Restaurant.code_postal'),nullable=False),\n",
    "              db.Column('id_vendeur', db.Integer(),ForeignKey('Employe.id_employe'),nullable=False),\n",
    "              db.Column('born', db.Integer(),nullable=False),\n",
    "              db.Column('moyen_paiment', db.String(),nullable=False),\n",
    "              db.Column('prix_total', db.Float(),nullable=False),\n",
    ")\n",
    "emp = db.Table('Recette', metadata,\n",
    "              db.Column('nom_item',  db.String(),ForeignKey('Item.nom_item'), nullable=False,primary_key=True),\n",
    "              db.Column('nom_ingredient', db.String(),ForeignKey('Ingredient.nom_ingredient'),nullable=False,primary_key=True),\n",
    "              db.Column('quantité', db.Integer(),nullable=False),\n",
    "              )\n",
    "\n",
    "emp = db.Table('Ingredient', metadata,\n",
    "              db.Column('nom_ingredient', db.String(),nullable=False,primary_key=True),\n",
    "              db.Column('cout', db.Float(),nullable=False),\n",
    ")\n",
    "\n",
    "emp = db.Table('Stock', metadata,\n",
    "              db.Column('nom_ingredient', db.String(),ForeignKey('Ingredient.nom_ingredient'),nullable=False),\n",
    "              db.Column('code_postal', db.String(),ForeignKey('Restaurant.code_postal'),nullable=False, primary_key=True),\n",
    "              db.Column('quantité', db.Integer()),\n",
    "\n",
    ")\n",
    "metadata.create_all(engine) #Creates the table"
   ]
  },
  {
   "cell_type": "code",
   "execution_count": 25,
   "metadata": {},
   "outputs": [],
   "source": [
    "### integration fake donnée dans la table pays\n",
    "pays = metadata.tables[\"Pays\"]\n",
    "with engine.begin() as conn:  \n",
    "    for i in range(100):      \n",
    "                insert_stmt = pays.insert().values(\n",
    "                    pays=faker.unique.country()\n",
    "                )\n",
    "                conn.execute(insert_stmt)"
   ]
  },
  {
   "cell_type": "code",
   "execution_count": 26,
   "metadata": {},
   "outputs": [
    {
     "ename": "TypeError",
     "evalue": "'int' object is not subscriptable",
     "output_type": "error",
     "traceback": [
      "\u001b[0;31m---------------------------------------------------------------------------\u001b[0m",
      "\u001b[0;31mTypeError\u001b[0m                                 Traceback (most recent call last)",
      "Cell \u001b[0;32mIn [26], line 17\u001b[0m\n\u001b[1;32m     12\u001b[0m accessibilite\u001b[39m=\u001b[39mfaker\u001b[39m.\u001b[39mrandom_int(\u001b[39m0\u001b[39m,\u001b[39m1\u001b[39m),\n\u001b[1;32m     13\u001b[0m parking\u001b[39m=\u001b[39mfaker\u001b[39m.\u001b[39mrandom_int(\u001b[39m0\u001b[39m,\u001b[39m1\u001b[39m),\n\u001b[1;32m     15\u001b[0m insert_stmt \u001b[39m=\u001b[39m restaurant\u001b[39m.\u001b[39minsert()\u001b[39m.\u001b[39mvalues(\n\u001b[1;32m     16\u001b[0m   pays\u001b[39m=\u001b[39m random\u001b[39m.\u001b[39mchoice(pays)[\u001b[39m0\u001b[39m],\n\u001b[0;32m---> 17\u001b[0m   capacite\u001b[39m=\u001b[39mrandom\u001b[39m.\u001b[39;49mchoice(capacite)[\u001b[39m0\u001b[39;49m],\n\u001b[1;32m     18\u001b[0m   service_rapide\u001b[39m=\u001b[39mrandom\u001b[39m.\u001b[39mchoice(service_rapide)[\u001b[39m0\u001b[39m],\n\u001b[1;32m     19\u001b[0m   accessibilite\u001b[39m=\u001b[39mrandom\u001b[39m.\u001b[39mchoice(accessibilite)[\u001b[39m0\u001b[39m],\n\u001b[1;32m     20\u001b[0m   parking\u001b[39m=\u001b[39mrandom\u001b[39m.\u001b[39mchoice(parking)[\u001b[39m0\u001b[39m],\n\u001b[1;32m     21\u001b[0m \n\u001b[1;32m     22\u001b[0m )\n\u001b[1;32m     24\u001b[0m conn\u001b[39m.\u001b[39mexecute(insert_stmt)\n",
      "\u001b[0;31mTypeError\u001b[0m: 'int' object is not subscriptable"
     ]
    }
   ],
   "source": [
    "### integration fake donnée dans la table restaurant\n",
    "\n",
    "restaurant = metadata.tables[\"Restaurant\"]\n",
    "\n",
    "with engine.begin() as conn:\n",
    "    for _ in range(1000):\n",
    "            \n",
    "        code_postal=faker.unique.postcode(),\n",
    "        pays = conn.execute(select([pays.c.pays])).fetchall(),\n",
    "        capacite= faker.random_int(50,200),\n",
    "        service_rapide=faker.random_int(0,1),\n",
    "        accessibilite=faker.random_int(0,1),\n",
    "        parking=faker.random_int(0,1),\n",
    "\n",
    "        insert_stmt = restaurant.insert().values(\n",
    "          pays= random.choice(pays)[0],\n",
    "          capacite=random.choice(capacite)[0],\n",
    "          service_rapide=random.choice(service_rapide)[0],\n",
    "          accessibilite=random.choice(accessibilite)[0],\n",
    "          parking=random.choice(parking)[0],\n",
    "        \n",
    "        )\n",
    "\n",
    "        conn.execute(insert_stmt)"
   ]
  },
  {
   "cell_type": "code",
   "execution_count": null,
   "metadata": {},
   "outputs": [
    {
     "name": "stdout",
     "output_type": "stream",
     "text": [
      "Cheryl Moore\n",
      "Bryan Scott\n",
      "Elizabeth Dean\n",
      "Mr. Ricky Cruz\n",
      "Diamond Ross\n",
      "Travis Rhodes\n",
      "Doris Jarvis\n",
      "Lindsey Jensen\n",
      "Alex Weiss\n",
      "George Sampson\n"
     ]
    }
   ],
   "source": [
    "myGenerator = Faker()\n",
    "\n",
    "\n",
    "\n",
    "for i in range(10):\n",
    "    print(myGenerator.name())"
   ]
  },
  {
   "cell_type": "code",
   "execution_count": null,
   "metadata": {},
   "outputs": [],
   "source": []
  },
  {
   "cell_type": "code",
   "execution_count": null,
   "metadata": {},
   "outputs": [],
   "source": []
  }
 ],
 "metadata": {
  "kernelspec": {
   "display_name": "Python 3.10.8 ('env_Data_Analyst')",
   "language": "python",
   "name": "python3"
  },
  "language_info": {
   "codemirror_mode": {
    "name": "ipython",
    "version": 3
   },
   "file_extension": ".py",
   "mimetype": "text/x-python",
   "name": "python",
   "nbconvert_exporter": "python",
   "pygments_lexer": "ipython3",
   "version": "3.10.8"
  },
  "orig_nbformat": 4,
  "vscode": {
   "interpreter": {
    "hash": "0920b6d888fcdbeceb69ca45aa60394d1f15e2c3f89d50dfba6427d9dfa2a6c7"
   }
  }
 },
 "nbformat": 4,
 "nbformat_minor": 2
}
