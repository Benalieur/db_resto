{
 "cells": [
  {
   "cell_type": "code",
   "execution_count": 21,
   "metadata": {},
   "outputs": [],
   "source": [
    "import pandas as pd\n",
    "\n",
    "from sqlalchemy import create_engine\n",
    "from sqlalchemy.ext.declarative import declarative_base\n",
    "\n",
    "from db import engine\n",
    "\n",
    "import os"
   ]
  },
  {
   "attachments": {},
   "cell_type": "markdown",
   "metadata": {},
   "source": [
    "### Question 1"
   ]
  },
  {
   "cell_type": "code",
   "execution_count": 22,
   "metadata": {},
   "outputs": [
    {
     "name": "stdout",
     "output_type": "stream",
     "text": [
      "Pas de base de données argent.\n"
     ]
    }
   ],
   "source": [
    "try:\n",
    "    os.remove(\"db/db_argent.sqlite\")\n",
    "    print('Base de données argent supprimée.')\n",
    "except:\n",
    "    print('Pas de base de données argent.')"
   ]
  },
  {
   "cell_type": "code",
   "execution_count": 23,
   "metadata": {},
   "outputs": [
    {
     "name": "stdout",
     "output_type": "stream",
     "text": [
      "2022-12-10 00:22:08,351 INFO sqlalchemy.engine.Engine BEGIN (implicit)\n",
      "2022-12-10 00:22:08,352 INFO sqlalchemy.engine.Engine COMMIT\n"
     ]
    }
   ],
   "source": [
    "base = declarative_base()\n",
    "engine_argent = create_engine(\"sqlite:///db/db_argent.sqlite\", echo=True)\n",
    "base.metadata.create_all(engine_argent)"
   ]
  },
  {
   "cell_type": "code",
   "execution_count": 26,
   "metadata": {},
   "outputs": [
    {
     "name": "stdout",
     "output_type": "stream",
     "text": [
      "2022-12-10 00:23:29,168 INFO sqlalchemy.engine.Engine PRAGMA main.table_info(\"select resto.pays, substr(resto.code_postal , 0, 3) as code_postal, count(employe.nom) from 'Restaurant' as resto join 'Pays' as pays on resto.pays=pays.pays join 'Employee' as employe on employe.code_postal=resto.code_postal group by pays.pays, employe.code_postal\")\n",
      "2022-12-10 00:23:29,169 INFO sqlalchemy.engine.Engine [raw sql] ()\n",
      "2022-12-10 00:23:29,171 INFO sqlalchemy.engine.Engine PRAGMA temp.table_info(\"select resto.pays, substr(resto.code_postal , 0, 3) as code_postal, count(employe.nom) from 'Restaurant' as resto join 'Pays' as pays on resto.pays=pays.pays join 'Employee' as employe on employe.code_postal=resto.code_postal group by pays.pays, employe.code_postal\")\n",
      "2022-12-10 00:23:29,172 INFO sqlalchemy.engine.Engine [raw sql] ()\n",
      "2022-12-10 00:23:29,174 INFO sqlalchemy.engine.Engine select resto.pays, substr(resto.code_postal , 0, 3) as code_postal, count(employe.nom) from 'Restaurant' as resto join 'Pays' as pays on resto.pays=pays.pays join 'Employee' as employe on employe.code_postal=resto.code_postal group by pays.pays, employe.code_postal\n",
      "2022-12-10 00:23:29,175 INFO sqlalchemy.engine.Engine [raw sql] ()\n"
     ]
    },
    {
     "data": {
      "text/html": [
       "<div>\n",
       "<style scoped>\n",
       "    .dataframe tbody tr th:only-of-type {\n",
       "        vertical-align: middle;\n",
       "    }\n",
       "\n",
       "    .dataframe tbody tr th {\n",
       "        vertical-align: top;\n",
       "    }\n",
       "\n",
       "    .dataframe thead th {\n",
       "        text-align: right;\n",
       "    }\n",
       "</style>\n",
       "<table border=\"1\" class=\"dataframe\">\n",
       "  <thead>\n",
       "    <tr style=\"text-align: right;\">\n",
       "      <th></th>\n",
       "      <th>pays</th>\n",
       "      <th>code_postal</th>\n",
       "      <th>count(employe.nom)</th>\n",
       "    </tr>\n",
       "  </thead>\n",
       "  <tbody>\n",
       "    <tr>\n",
       "      <th>0</th>\n",
       "      <td>Australia</td>\n",
       "      <td>14</td>\n",
       "      <td>24</td>\n",
       "    </tr>\n",
       "    <tr>\n",
       "      <th>1</th>\n",
       "      <td>Australia</td>\n",
       "      <td>24</td>\n",
       "      <td>18</td>\n",
       "    </tr>\n",
       "    <tr>\n",
       "      <th>2</th>\n",
       "      <td>Australia</td>\n",
       "      <td>33</td>\n",
       "      <td>15</td>\n",
       "    </tr>\n",
       "    <tr>\n",
       "      <th>3</th>\n",
       "      <td>Australia</td>\n",
       "      <td>46</td>\n",
       "      <td>18</td>\n",
       "    </tr>\n",
       "    <tr>\n",
       "      <th>4</th>\n",
       "      <td>Australia</td>\n",
       "      <td>76</td>\n",
       "      <td>11</td>\n",
       "    </tr>\n",
       "    <tr>\n",
       "      <th>...</th>\n",
       "      <td>...</td>\n",
       "      <td>...</td>\n",
       "      <td>...</td>\n",
       "    </tr>\n",
       "    <tr>\n",
       "      <th>245</th>\n",
       "      <td>Vietnam</td>\n",
       "      <td>81</td>\n",
       "      <td>15</td>\n",
       "    </tr>\n",
       "    <tr>\n",
       "      <th>246</th>\n",
       "      <td>Vietnam</td>\n",
       "      <td>82</td>\n",
       "      <td>13</td>\n",
       "    </tr>\n",
       "    <tr>\n",
       "      <th>247</th>\n",
       "      <td>Vietnam</td>\n",
       "      <td>85</td>\n",
       "      <td>17</td>\n",
       "    </tr>\n",
       "    <tr>\n",
       "      <th>248</th>\n",
       "      <td>Vietnam</td>\n",
       "      <td>93</td>\n",
       "      <td>11</td>\n",
       "    </tr>\n",
       "    <tr>\n",
       "      <th>249</th>\n",
       "      <td>Vietnam</td>\n",
       "      <td>93</td>\n",
       "      <td>15</td>\n",
       "    </tr>\n",
       "  </tbody>\n",
       "</table>\n",
       "<p>250 rows × 3 columns</p>\n",
       "</div>"
      ],
      "text/plain": [
       "          pays code_postal  count(employe.nom)\n",
       "0    Australia          14                  24\n",
       "1    Australia          24                  18\n",
       "2    Australia          33                  15\n",
       "3    Australia          46                  18\n",
       "4    Australia          76                  11\n",
       "..         ...         ...                 ...\n",
       "245    Vietnam          81                  15\n",
       "246    Vietnam          82                  13\n",
       "247    Vietnam          85                  17\n",
       "248    Vietnam          93                  11\n",
       "249    Vietnam          93                  15\n",
       "\n",
       "[250 rows x 3 columns]"
      ]
     },
     "execution_count": 26,
     "metadata": {},
     "output_type": "execute_result"
    }
   ],
   "source": [
    "employees = pd.io.sql.read_sql(\"select resto.pays, substr(resto.code_postal , 0, 3) as code_postal, count(employe.nom) from 'Restaurant' as resto join 'Pays' as pays on resto.pays=pays.pays join 'Employee' as employe on employe.code_postal=resto.code_postal group by pays.pays, employe.code_postal\", con=engine)\n",
    "\n",
    "employees"
   ]
  },
  {
   "cell_type": "code",
   "execution_count": 27,
   "metadata": {},
   "outputs": [
    {
     "name": "stdout",
     "output_type": "stream",
     "text": [
      "2022-12-10 00:23:29,280 INFO sqlalchemy.engine.Engine PRAGMA main.table_info(\"EmployePays\")\n",
      "2022-12-10 00:23:29,281 INFO sqlalchemy.engine.Engine [raw sql] ()\n",
      "2022-12-10 00:23:29,283 INFO sqlalchemy.engine.Engine BEGIN (implicit)\n",
      "2022-12-10 00:23:29,287 INFO sqlalchemy.engine.Engine INSERT INTO \"EmployePays\" (pays, code_postal, \"count(employe.nom)\") VALUES (?, ?, ?)\n",
      "2022-12-10 00:23:29,288 INFO sqlalchemy.engine.Engine [generated in 0.00254s] (('Australia', '14', 24), ('Australia', '24', 18), ('Australia', '33', 15), ('Australia', '46', 18), ('Australia', '76', 11), ('Australia', '85', 18), ('Australia', 'S8', 19), ('Austria', '10', 13)  ... displaying 10 of 250 total bound parameter sets ...  ('Vietnam', '93', 11), ('Vietnam', '93', 15))\n",
      "2022-12-10 00:23:29,291 INFO sqlalchemy.engine.Engine COMMIT\n",
      "2022-12-10 00:23:29,296 INFO sqlalchemy.engine.Engine SELECT name FROM sqlite_master WHERE type='table' ORDER BY name\n",
      "2022-12-10 00:23:29,297 INFO sqlalchemy.engine.Engine [raw sql] ()\n"
     ]
    },
    {
     "data": {
      "text/plain": [
       "250"
      ]
     },
     "execution_count": 27,
     "metadata": {},
     "output_type": "execute_result"
    }
   ],
   "source": [
    "employees.to_sql(name='EmployePays', con=engine_argent, if_exists = 'append', index=False)"
   ]
  },
  {
   "cell_type": "code",
   "execution_count": 28,
   "metadata": {},
   "outputs": [
    {
     "name": "stdout",
     "output_type": "stream",
     "text": [
      "2022-12-10 00:23:29,364 INFO sqlalchemy.engine.Engine PRAGMA main.table_info(\"EmployePaysValue\")\n",
      "2022-12-10 00:23:29,366 INFO sqlalchemy.engine.Engine [raw sql] ()\n",
      "2022-12-10 00:23:29,367 INFO sqlalchemy.engine.Engine PRAGMA temp.table_info(\"EmployePaysValue\")\n",
      "2022-12-10 00:23:29,368 INFO sqlalchemy.engine.Engine [raw sql] ()\n",
      "2022-12-10 00:23:29,371 INFO sqlalchemy.engine.Engine BEGIN (implicit)\n",
      "2022-12-10 00:23:29,372 INFO sqlalchemy.engine.Engine \n",
      "CREATE TABLE \"EmployePaysValue\" (\n",
      "\tpays TEXT, \n",
      "\tcode_postal TEXT, \n",
      "\t\"count(employe.nom)\" BIGINT\n",
      ")\n",
      "\n",
      "\n",
      "2022-12-10 00:23:29,372 INFO sqlalchemy.engine.Engine [no key 0.00076s] ()\n",
      "2022-12-10 00:23:29,379 INFO sqlalchemy.engine.Engine COMMIT\n",
      "2022-12-10 00:23:29,381 INFO sqlalchemy.engine.Engine BEGIN (implicit)\n",
      "2022-12-10 00:23:29,384 INFO sqlalchemy.engine.Engine INSERT INTO \"EmployePaysValue\" (pays, code_postal, \"count(employe.nom)\") VALUES (?, ?, ?)\n",
      "2022-12-10 00:23:29,385 INFO sqlalchemy.engine.Engine [generated in 0.00194s] (('Australia', '14', 24), ('Australia', '24', 18), ('Australia', '33', 15), ('Australia', '46', 18), ('Australia', '76', 11), ('Australia', '85', 18), ('Australia', 'S8', 19), ('Austria', '10', 13)  ... displaying 10 of 250 total bound parameter sets ...  ('Vietnam', '93', 11), ('Vietnam', '93', 15))\n",
      "2022-12-10 00:23:29,387 INFO sqlalchemy.engine.Engine COMMIT\n",
      "2022-12-10 00:23:29,393 INFO sqlalchemy.engine.Engine SELECT name FROM sqlite_master WHERE type='table' ORDER BY name\n",
      "2022-12-10 00:23:29,393 INFO sqlalchemy.engine.Engine [raw sql] ()\n"
     ]
    },
    {
     "data": {
      "text/plain": [
       "250"
      ]
     },
     "execution_count": 28,
     "metadata": {},
     "output_type": "execute_result"
    }
   ],
   "source": [
    "employees.to_sql(name='EmployePaysValue', con=engine_argent, if_exists = 'append', index=False)"
   ]
  },
  {
   "attachments": {},
   "cell_type": "markdown",
   "metadata": {},
   "source": [
    "### Question 2"
   ]
  },
  {
   "cell_type": "code",
   "execution_count": 29,
   "metadata": {},
   "outputs": [
    {
     "name": "stdout",
     "output_type": "stream",
     "text": [
      "2022-12-10 00:23:29,468 INFO sqlalchemy.engine.Engine PRAGMA main.table_info(\"select distinct resto.pays, resto.code_postal, count(id_item), ingredient.ingredient from 'Restaurant' as resto join 'Pays' as pays on resto.pays=pays.pays join 'CarteItem' as carte_item on resto.pays=carte_item.pays join 'Item' as item on carte_item.id_item=item.nom_item join 'Recette' as recette on item.nom_item=recette.nom_item join 'Ingredient' as ingredient on recette.ingredient=ingredient.ingredient group by id_item order by count(id_item) desc\")\n",
      "2022-12-10 00:23:29,469 INFO sqlalchemy.engine.Engine [raw sql] ()\n",
      "2022-12-10 00:23:29,471 INFO sqlalchemy.engine.Engine PRAGMA temp.table_info(\"select distinct resto.pays, resto.code_postal, count(id_item), ingredient.ingredient from 'Restaurant' as resto join 'Pays' as pays on resto.pays=pays.pays join 'CarteItem' as carte_item on resto.pays=carte_item.pays join 'Item' as item on carte_item.id_item=item.nom_item join 'Recette' as recette on item.nom_item=recette.nom_item join 'Ingredient' as ingredient on recette.ingredient=ingredient.ingredient group by id_item order by count(id_item) desc\")\n",
      "2022-12-10 00:23:29,472 INFO sqlalchemy.engine.Engine [raw sql] ()\n",
      "2022-12-10 00:23:29,473 INFO sqlalchemy.engine.Engine select distinct resto.pays, resto.code_postal, count(id_item), ingredient.ingredient from 'Restaurant' as resto join 'Pays' as pays on resto.pays=pays.pays join 'CarteItem' as carte_item on resto.pays=carte_item.pays join 'Item' as item on carte_item.id_item=item.nom_item join 'Recette' as recette on item.nom_item=recette.nom_item join 'Ingredient' as ingredient on recette.ingredient=ingredient.ingredient group by id_item order by count(id_item) desc\n",
      "2022-12-10 00:23:29,474 INFO sqlalchemy.engine.Engine [raw sql] ()\n"
     ]
    },
    {
     "data": {
      "text/html": [
       "<div>\n",
       "<style scoped>\n",
       "    .dataframe tbody tr th:only-of-type {\n",
       "        vertical-align: middle;\n",
       "    }\n",
       "\n",
       "    .dataframe tbody tr th {\n",
       "        vertical-align: top;\n",
       "    }\n",
       "\n",
       "    .dataframe thead th {\n",
       "        text-align: right;\n",
       "    }\n",
       "</style>\n",
       "<table border=\"1\" class=\"dataframe\">\n",
       "  <thead>\n",
       "    <tr style=\"text-align: right;\">\n",
       "      <th></th>\n",
       "      <th>pays</th>\n",
       "      <th>code_postal</th>\n",
       "      <th>count(id_item)</th>\n",
       "      <th>ingredient</th>\n",
       "    </tr>\n",
       "  </thead>\n",
       "  <tbody>\n",
       "    <tr>\n",
       "      <th>0</th>\n",
       "      <td>Vietnam</td>\n",
       "      <td>93956-418</td>\n",
       "      <td>155</td>\n",
       "      <td>fromage</td>\n",
       "    </tr>\n",
       "    <tr>\n",
       "      <th>1</th>\n",
       "      <td>China</td>\n",
       "      <td>45331</td>\n",
       "      <td>155</td>\n",
       "      <td>fish</td>\n",
       "    </tr>\n",
       "    <tr>\n",
       "      <th>2</th>\n",
       "      <td>Spain</td>\n",
       "      <td>164486</td>\n",
       "      <td>145</td>\n",
       "      <td>fromage</td>\n",
       "    </tr>\n",
       "    <tr>\n",
       "      <th>3</th>\n",
       "      <td>Vietnam</td>\n",
       "      <td>93956-418</td>\n",
       "      <td>145</td>\n",
       "      <td>fromage</td>\n",
       "    </tr>\n",
       "    <tr>\n",
       "      <th>4</th>\n",
       "      <td>Vietnam</td>\n",
       "      <td>93956-418</td>\n",
       "      <td>145</td>\n",
       "      <td>cornichon</td>\n",
       "    </tr>\n",
       "    <tr>\n",
       "      <th>...</th>\n",
       "      <td>...</td>\n",
       "      <td>...</td>\n",
       "      <td>...</td>\n",
       "      <td>...</td>\n",
       "    </tr>\n",
       "    <tr>\n",
       "      <th>95</th>\n",
       "      <td>Brazil</td>\n",
       "      <td>547166</td>\n",
       "      <td>56</td>\n",
       "      <td>croustille</td>\n",
       "    </tr>\n",
       "    <tr>\n",
       "      <th>96</th>\n",
       "      <td>India</td>\n",
       "      <td>425464</td>\n",
       "      <td>55</td>\n",
       "      <td>fromage</td>\n",
       "    </tr>\n",
       "    <tr>\n",
       "      <th>97</th>\n",
       "      <td>South Africa</td>\n",
       "      <td>G27 7HT</td>\n",
       "      <td>50</td>\n",
       "      <td>fromage</td>\n",
       "    </tr>\n",
       "    <tr>\n",
       "      <th>98</th>\n",
       "      <td>Colombia</td>\n",
       "      <td>7443 YD</td>\n",
       "      <td>44</td>\n",
       "      <td>croustille</td>\n",
       "    </tr>\n",
       "    <tr>\n",
       "      <th>99</th>\n",
       "      <td>Netherlands</td>\n",
       "      <td>452654</td>\n",
       "      <td>36</td>\n",
       "      <td>croustille</td>\n",
       "    </tr>\n",
       "  </tbody>\n",
       "</table>\n",
       "<p>100 rows × 4 columns</p>\n",
       "</div>"
      ],
      "text/plain": [
       "            pays code_postal  count(id_item)  ingredient\n",
       "0        Vietnam   93956-418             155     fromage\n",
       "1          China       45331             155        fish\n",
       "2          Spain      164486             145     fromage\n",
       "3        Vietnam   93956-418             145     fromage\n",
       "4        Vietnam   93956-418             145   cornichon\n",
       "..           ...         ...             ...         ...\n",
       "95        Brazil      547166              56  croustille\n",
       "96         India      425464              55     fromage\n",
       "97  South Africa     G27 7HT              50     fromage\n",
       "98      Colombia     7443 YD              44  croustille\n",
       "99   Netherlands      452654              36  croustille\n",
       "\n",
       "[100 rows x 4 columns]"
      ]
     },
     "execution_count": 29,
     "metadata": {},
     "output_type": "execute_result"
    }
   ],
   "source": [
    "menu = pd.io.sql.read_sql(\"select distinct resto.pays, resto.code_postal, count(id_item), ingredient.ingredient from 'Restaurant' as resto join 'Pays' as pays on resto.pays=pays.pays join 'CarteItem' as carte_item on resto.pays=carte_item.pays join 'Item' as item on carte_item.id_item=item.nom_item join 'Recette' as recette on item.nom_item=recette.nom_item join 'Ingredient' as ingredient on recette.ingredient=ingredient.ingredient group by id_item order by count(id_item) desc\", con=engine)\n",
    "\n",
    "menu"
   ]
  }
 ],
 "metadata": {
  "kernelspec": {
   "display_name": "data",
   "language": "python",
   "name": "python3"
  },
  "language_info": {
   "codemirror_mode": {
    "name": "ipython",
    "version": 3
   },
   "file_extension": ".py",
   "mimetype": "text/x-python",
   "name": "python",
   "nbconvert_exporter": "python",
   "pygments_lexer": "ipython3",
   "version": "3.10.8"
  },
  "orig_nbformat": 4,
  "vscode": {
   "interpreter": {
    "hash": "c09735733c6285679cacaa51f91ede4e23ce045856625db662675b732ea0d9ef"
   }
  }
 },
 "nbformat": 4,
 "nbformat_minor": 2
}
