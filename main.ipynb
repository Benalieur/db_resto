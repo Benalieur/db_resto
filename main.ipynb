{
 "cells": [
  {
   "cell_type": "markdown",
   "metadata": {},
   "source": [
    "# CRÉATION D'UNE BASE DE DONNÉES ALÉATOIRE SUR LES RESTAURANTS"
   ]
  },
  {
   "cell_type": "code",
   "execution_count": null,
   "metadata": {},
   "outputs": [],
   "source": [
    "import pandas as pd\n",
    "import random as rd\n",
    "import datetime\n",
    "\n",
    "from db import engine"
   ]
  },
  {
   "cell_type": "markdown",
   "metadata": {},
   "source": [
    "## RESTAURANTS"
   ]
  },
  {
   "cell_type": "code",
   "execution_count": null,
   "metadata": {},
   "outputs": [],
   "source": [
    "df_resto = pd.read_csv(\"csv/data_resto.csv\")\n",
    "\n",
    "df_resto"
   ]
  },
  {
   "cell_type": "code",
   "execution_count": null,
   "metadata": {},
   "outputs": [],
   "source": [
    "df_resto[\"espace_enfant\"] = df_resto[\"espace_enfant\"].apply(lambda x: 1 if x == \"Yes\" else x)\n",
    "df_resto[\"espace_enfant\"] = df_resto[\"espace_enfant\"].apply(lambda x: 0 if x == \"No\" else x)\n",
    "\n",
    "df_resto[\"service_rapide\"] = df_resto[\"service_rapide\"].apply(lambda x: 1 if x == \"Yes\" else x)\n",
    "df_resto[\"service_rapide\"] = df_resto[\"service_rapide\"].apply(lambda x: 0 if x == \"No\" else x)\n",
    "\n",
    "df_resto[\"parking\"] = df_resto[\"parking\"].apply(lambda x: 1 if x == \"Yes\" else x)\n",
    "df_resto[\"parking\"] = df_resto[\"parking\"].apply(lambda x: 0 if x == \"No\" else x)\n",
    "\n",
    "df_resto[\"accessibilite\"] = df_resto[\"accessibilite\"].apply(lambda x: 1 if x == \"Yes\" else x)\n",
    "df_resto[\"accessibilite\"] = df_resto[\"accessibilite\"].apply(lambda x: 0 if x == \"No\" else x)\n",
    "\n",
    "df_resto"
   ]
  },
  {
   "cell_type": "code",
   "execution_count": null,
   "metadata": {},
   "outputs": [],
   "source": [
    "df_resto.groupby(\"pays\").count()"
   ]
  },
  {
   "cell_type": "code",
   "execution_count": null,
   "metadata": {},
   "outputs": [],
   "source": [
    "df_resto[\"pays\"].nunique()"
   ]
  },
  {
   "cell_type": "markdown",
   "metadata": {},
   "source": [
    "## EMPLOYÉS"
   ]
  },
  {
   "cell_type": "markdown",
   "metadata": {},
   "source": [
    "##### Création de la liste des employés."
   ]
  },
  {
   "cell_type": "code",
   "execution_count": null,
   "metadata": {},
   "outputs": [],
   "source": [
    "code_postal = df_resto[\"code_postal\"].unique()\n",
    "\n",
    "code_postal"
   ]
  },
  {
   "cell_type": "code",
   "execution_count": null,
   "metadata": {},
   "outputs": [],
   "source": [
    "len(code_postal)"
   ]
  },
  {
   "cell_type": "code",
   "execution_count": null,
   "metadata": {},
   "outputs": [],
   "source": [
    "df_employes = pd.read_csv(\"csv/data_employes.csv\")\n",
    "\n",
    "df_employes['id_employee'] = df_employes.index\n",
    "df_employes['code_postal'] = ''\n",
    "\n",
    "df_employes['code_postal'] = df_employes['code_postal'].apply(lambda x : code_postal[rd.randint(0, len(code_postal)-1)])\n",
    "del df_employes['telephone']\n",
    "del df_employes['email']\n",
    "\n",
    "df_employes\n"
   ]
  },
  {
   "cell_type": "code",
   "execution_count": null,
   "metadata": {},
   "outputs": [],
   "source": [
    "df_employes.count()\n"
   ]
  },
  {
   "cell_type": "code",
   "execution_count": null,
   "metadata": {},
   "outputs": [],
   "source": [
    "df_employes.groupby(\"poste\").count()"
   ]
  },
  {
   "cell_type": "markdown",
   "metadata": {},
   "source": [
    "## PAYS"
   ]
  },
  {
   "cell_type": "code",
   "execution_count": null,
   "metadata": {},
   "outputs": [],
   "source": [
    "list_pays_block = [df_resto[\"pays\"].unique()]\n",
    "list_pays = df_resto[\"pays\"].unique()\n",
    "\n",
    "list_pays"
   ]
  },
  {
   "cell_type": "code",
   "execution_count": null,
   "metadata": {},
   "outputs": [],
   "source": [
    "len(list_pays)"
   ]
  },
  {
   "cell_type": "code",
   "execution_count": null,
   "metadata": {},
   "outputs": [],
   "source": [
    "df_pays = pd.DataFrame()\n",
    "\n",
    "for pays in range(len(list_pays_block)):\n",
    "    df_pays[\"pays\"] = list_pays_block[pays]\n",
    "    \n",
    "df_pays"
   ]
  },
  {
   "cell_type": "markdown",
   "metadata": {},
   "source": [
    "## INGRÉDIENTS"
   ]
  },
  {
   "cell_type": "markdown",
   "metadata": {},
   "source": [
    "Ingrédients pour les plats"
   ]
  },
  {
   "cell_type": "code",
   "execution_count": null,
   "metadata": {},
   "outputs": [],
   "source": [
    "df_ingredient_plat = pd.DataFrame({\n",
    "    \"ingredient\": [\"pain\", \"steak\", \"nugguet\", \"fish\", \"salade\", \"tomate\", \"cornichon\", \"s_mayo\", \"s_ketchup\", \"s_barbecue\", \"fromage\"], \n",
    "    \"prix\": [0.49, 0.99, 1.19, 1.49, 0.29, 0.29, 0.09, 0.19, 0.19, 0.19, 0.39]\n",
    "    })\n",
    "\n",
    "df_ingredient_plat"
   ]
  },
  {
   "cell_type": "markdown",
   "metadata": {},
   "source": [
    "Ingrédients pour les desserts"
   ]
  },
  {
   "cell_type": "code",
   "execution_count": null,
   "metadata": {},
   "outputs": [],
   "source": [
    "df_fruit = pd.DataFrame({\n",
    "    \"ingredient\": [\"banane\", \"pomme\", \"orange\"], \n",
    "    \"prix\": [0.99, 0.49, 0.49]\n",
    "    })\n",
    "\n",
    "df_fruit"
   ]
  },
  {
   "cell_type": "code",
   "execution_count": null,
   "metadata": {},
   "outputs": [],
   "source": [
    "df_glace = pd.DataFrame({\n",
    "    \"ingredient\": [\"glace_van\", \"glace_choco\", \"glace_pist\"], \n",
    "    \"prix\": [0.69, 0.99, 0.99]\n",
    "    })\n",
    "\n",
    "df_glace"
   ]
  },
  {
   "cell_type": "code",
   "execution_count": null,
   "metadata": {},
   "outputs": [],
   "source": [
    "df_sauce = pd.DataFrame({\n",
    "    \"ingredient\": [\"s_choco\", \"s_caramel\", \"s_café\", \"croustille\"], \n",
    "    \"prix\": [0.19, 0.19, 0.19, 0.09]\n",
    "    })\n",
    "\n",
    "df_sauce"
   ]
  },
  {
   "cell_type": "code",
   "execution_count": null,
   "metadata": {},
   "outputs": [],
   "source": [
    "df_ingredient_dessert = pd.concat([df_fruit, df_glace, df_sauce]).reset_index()\n",
    "del df_ingredient_dessert['index']\n",
    "\n",
    "df_ingredient_dessert"
   ]
  },
  {
   "cell_type": "code",
   "execution_count": null,
   "metadata": {},
   "outputs": [],
   "source": [
    "df_ingredient = pd.concat([df_ingredient_plat, df_ingredient_dessert]).set_index(\"ingredient\")\n",
    "\n",
    "df_ingredient"
   ]
  },
  {
   "cell_type": "code",
   "execution_count": null,
   "metadata": {},
   "outputs": [],
   "source": [
    "len(df_ingredient)"
   ]
  },
  {
   "cell_type": "code",
   "execution_count": null,
   "metadata": {},
   "outputs": [],
   "source": [
    "df_ingredient.nunique()"
   ]
  },
  {
   "cell_type": "markdown",
   "metadata": {},
   "source": [
    "## RECETTE"
   ]
  },
  {
   "cell_type": "code",
   "execution_count": null,
   "metadata": {},
   "outputs": [],
   "source": [
    "df_ingredient_plat"
   ]
  },
  {
   "cell_type": "code",
   "execution_count": null,
   "metadata": {},
   "outputs": [],
   "source": [
    "nb_plat = 50\n",
    "nb_dessert = 50\n",
    "list_plat = []\n",
    "list_dessert = []\n",
    "\n",
    "for plat in range (nb_plat):\n",
    "    rd_viande = rd.randint(1,3)\n",
    "    nb_viande = rd.randint(1,2)\n",
    "    rd_crudites = rd.randint(4,6)\n",
    "    rd_sauce = rd.randint(7,9)\n",
    "    nb_fromage = rd.randint(0,3)\n",
    "\n",
    "    list_plat.append({\n",
    "        \"nom_item\": \"Plat n°\" + str(plat + 1),\n",
    "        \"ingredients\": [df_ingredient_plat.ingredient[0], df_ingredient_plat.ingredient[rd_viande], df_ingredient_plat.ingredient[rd_crudites], df_ingredient_plat.ingredient[rd_sauce], df_ingredient_plat.ingredient[10]],\n",
    "        \"prix\": round((df_ingredient_plat.prix[0] + nb_viande * df_ingredient_plat.prix[rd_viande] + df_ingredient_plat.prix[rd_crudites] + df_ingredient_plat.prix[rd_sauce]) + nb_fromage *  df_ingredient_plat.prix[10] + 1.49, 2),\n",
    "        \"type\": \"plat\"\n",
    "    })\n",
    "    \n",
    "for dessert in range (nb_dessert):\n",
    "    rd_fruit = rd.randint(0, len(df_fruit)-1)\n",
    "    rd_glace = rd.randint(0, len(df_glace)-1)\n",
    "    rd_sauce = rd.randint(0, 2)\n",
    "    rd_boule = rd.randint(1, 3)\n",
    "\n",
    "    list_dessert.append({\n",
    "        \"nom_item\": \"Dessert n°\" + str(dessert + 1),\n",
    "        \"ingredients\": [df_fruit.ingredient[rd_fruit], df_glace.ingredient[rd_glace], df_sauce.ingredient[rd_sauce], df_sauce.ingredient[3]],\n",
    "        \"prix\": round((df_fruit.prix[rd_fruit] + rd_boule * df_glace.prix[rd_glace] + df_sauce.prix[rd_sauce] + df_sauce.prix[3]) + 0.49, 2),\n",
    "        \"type\": \"dessert\"\n",
    "    })\n",
    "\n",
    "list_recette = list_plat + list_dessert\n",
    "\n",
    "list_recette"
   ]
  },
  {
   "cell_type": "code",
   "execution_count": null,
   "metadata": {},
   "outputs": [],
   "source": [
    "df_boisson = pd.DataFrame({\n",
    "    \"nom_item\": [\"coca_p\", \"coca_zero_p\", \"fanta_orange_p\", \"fanta_citron_p\", \"sprite_p\", \"vittel_p\", \"san_pellegrino_p\", \"jus_orange_p\", \"jus_pomme_p\", \"heinneken_p\", \n",
    "    \"coca_zero_m\", \"fanta_orange_m\", \"fanta_citron_m\", \"sprite_m\", \"vittel_m\", \"san_pellegrino_m\", \"jus_orange_m\", \"jus_pomme_m\", \"heinneken_m\",\n",
    "    \"coca_g\", \"coca_zero_g\", \"fanta_orange_g\", \"fanta_citron_g\", \"sprite_g\", \"vittel_g\", \"san_pellegrino_g\", \"jus_orange_g\", \"jus_pomme_g\", \"heinneken_g\"\n",
    "    ],\n",
    "    \"prix\": [1.49, 0.99, 1.49, 1.49, 0.99, 0.99, 1.49, 1.99, 1.99, 2.99,\n",
    "    0.99*1.25, 1.49*1.25, 1.49*1.25, 0.99*1.25, 0.99*1.25, 1.49*1.25, 1.99*1.25, 1.99*1.25, 2.99*1.25,\n",
    "    1.49*1.5, 0.99*1.5, 1.49*1.5, 1.49*1.5, 0.99*1.5, 0.99*1.5, 1.49*1.5, 1.99*1.5, 1.99*1.5, 2.99*1.5\n",
    "    ],\n",
    "    \"type\" : \"boisson\"\n",
    "    })\n",
    "\n",
    "df_boisson[\"prix\"] = round(df_boisson[\"prix\"], 2)\n",
    "\n",
    "df_boisson"
   ]
  },
  {
   "cell_type": "code",
   "execution_count": null,
   "metadata": {},
   "outputs": [],
   "source": [
    "list_boisson = []\n",
    "\n",
    "for boisson in df_boisson.nom_item:\n",
    "    list_boisson.append(boisson)\n",
    "\n",
    "list_boisson"
   ]
  },
  {
   "cell_type": "code",
   "execution_count": null,
   "metadata": {},
   "outputs": [],
   "source": [
    "len(df_ingredient)"
   ]
  },
  {
   "cell_type": "code",
   "execution_count": null,
   "metadata": {},
   "outputs": [],
   "source": [
    "list_stock = []\n",
    "for i in range (len(df_ingredient)):\n",
    "    list_stock.append(rd.randint(50,500))\n",
    "\n",
    "list_stock"
   ]
  },
  {
   "cell_type": "code",
   "execution_count": null,
   "metadata": {},
   "outputs": [],
   "source": [
    "df_stock = df_ingredient.copy()\n",
    "del df_stock['prix']\n",
    "\n",
    "df_stock['code_postal'] = ''\n",
    "df_stock['code_postal'] = df_stock['code_postal'].apply(lambda x : code_postal[rd.randint(0, len(code_postal)-1)])\n",
    "\n",
    "df_stock['quantité'] = ''\n",
    "df_stock['quantité'] = df_stock['quantité'].apply(lambda x : list_stock[rd.randint(0, len(list_stock)-1)])\n",
    "\n",
    "df_stock"
   ]
  },
  {
   "cell_type": "code",
   "execution_count": null,
   "metadata": {},
   "outputs": [],
   "source": [
    "df_stock.quantité.sans = 0"
   ]
  },
  {
   "cell_type": "code",
   "execution_count": null,
   "metadata": {},
   "outputs": [],
   "source": [
    "df_stock"
   ]
  },
  {
   "cell_type": "code",
   "execution_count": null,
   "metadata": {},
   "outputs": [],
   "source": [
    "df_stock.quantité['pain']"
   ]
  },
  {
   "cell_type": "code",
   "execution_count": null,
   "metadata": {},
   "outputs": [],
   "source": [
    "df_recette = pd.DataFrame()\n",
    "\n",
    "\n",
    "for recette in list_recette:\n",
    "    # print(recette[\"name\"])\n",
    "    for ingredient in recette[\"ingredients\"]:\n",
    "        df = pd.DataFrame({\n",
    "            \"nom_item\": [recette[\"nom_item\"]], \n",
    "            \"ingredient\": [ingredient],\n",
    "            \"quantité\": df_stock.quantité[ingredient]\n",
    "            })\n",
    "        df_recette = pd.concat([df_recette, df])\n",
    "\n",
    "        # print(ingredient)\n",
    "        # df_recette.append(df)\n",
    "\n",
    "df_recette"
   ]
  },
  {
   "cell_type": "markdown",
   "metadata": {},
   "source": [
    "## ITEM"
   ]
  },
  {
   "cell_type": "code",
   "execution_count": null,
   "metadata": {},
   "outputs": [],
   "source": [
    "df_item = pd.DataFrame(list_recette)\n",
    "del df_item[\"ingredients\"]\n",
    "\n",
    "df_item"
   ]
  },
  {
   "cell_type": "code",
   "execution_count": null,
   "metadata": {},
   "outputs": [],
   "source": [
    "df_item = pd.concat([df_item, df_boisson])\n",
    "\n",
    "df_item"
   ]
  },
  {
   "attachments": {},
   "cell_type": "markdown",
   "metadata": {},
   "source": [
    "## CARTE ITEM"
   ]
  },
  {
   "cell_type": "code",
   "execution_count": null,
   "metadata": {},
   "outputs": [],
   "source": [
    "len(list_pays)"
   ]
  },
  {
   "cell_type": "code",
   "execution_count": null,
   "metadata": {},
   "outputs": [],
   "source": [
    "df_carte_item = df_item.copy()\n",
    "carte_item = []\n",
    "\n",
    "for pays in range(0,3):\n",
    "    for item in df_carte_item.nom_item:\n",
    "        # print(item)\n",
    "        carte_item.append({\n",
    "            \"id_item\": item,\n",
    "            \"pays\": list_pays[rd.randint(0, len(list_pays))-1]\n",
    "        })\n"
   ]
  },
  {
   "cell_type": "code",
   "execution_count": null,
   "metadata": {},
   "outputs": [],
   "source": [
    "list_item = []\n",
    "\n",
    "for item in carte_item:\n",
    "    change_item = [item['id_item'], item['pays']]\n",
    "    list_item.append(change_item)\n",
    "\n",
    "\n",
    "# print(list_item)\n",
    "\n",
    "df_carte_item = pd.DataFrame(carte_item)"
   ]
  },
  {
   "cell_type": "code",
   "execution_count": null,
   "metadata": {},
   "outputs": [],
   "source": [
    "item_restant_list= list_item.copy()\n",
    "selected_item_list= []\n",
    "\n",
    "\n",
    "for pays in list_pays:\n",
    "    for _ in range(80):\n",
    "        for item in list_item:\n",
    "            if item not in selected_item_list:\n",
    "                if len(item_restant_list) > 0:\n",
    "                    # print(item)\n",
    "                    selected_item_list.append(item)\n",
    "                    item_restant_list.remove(item)\n",
    "                    #print(len(item_restant_list))\n",
    "\n",
    "df_carte_item = pd.DataFrame(selected_item_list)\n",
    "\n",
    "df_carte_item = df_carte_item.rename(columns={0:\"id_item\",1:\"pays\"})\n",
    "\n",
    "df_carte_item = df_carte_item.sort_values(\"id_item\")\n",
    "\n",
    "df_carte_item"
   ]
  },
  {
   "attachments": {},
   "cell_type": "markdown",
   "metadata": {},
   "source": [
    "## MENU"
   ]
  },
  {
   "attachments": {},
   "cell_type": "markdown",
   "metadata": {},
   "source": [
    "Prix total des plats, boissons, desserts, moins 10%"
   ]
  },
  {
   "cell_type": "code",
   "execution_count": null,
   "metadata": {},
   "outputs": [],
   "source": [
    "df_plat = pd.DataFrame(list_plat)\n",
    "df_dessert = pd.DataFrame(list_dessert)"
   ]
  },
  {
   "cell_type": "code",
   "execution_count": null,
   "metadata": {},
   "outputs": [],
   "source": [
    "list_plat = []\n",
    "\n",
    "for plat in df_plat.nom_item:\n",
    "    list_plat.append(plat)\n",
    "\n",
    "#list_plat"
   ]
  },
  {
   "cell_type": "code",
   "execution_count": null,
   "metadata": {},
   "outputs": [],
   "source": [
    "list_dessert = []\n",
    "\n",
    "for plat in df_dessert.nom_item:\n",
    "    list_dessert.append(plat)\n",
    "\n",
    "#list_dessert"
   ]
  },
  {
   "cell_type": "code",
   "execution_count": null,
   "metadata": {},
   "outputs": [],
   "source": [
    "del df_plat['ingredients']\n",
    "\n",
    "df_plat.head(5)"
   ]
  },
  {
   "cell_type": "code",
   "execution_count": null,
   "metadata": {},
   "outputs": [],
   "source": [
    "del df_dessert['ingredients']\n",
    "\n",
    "df_dessert.head(5)"
   ]
  },
  {
   "cell_type": "code",
   "execution_count": null,
   "metadata": {},
   "outputs": [],
   "source": [
    "menu1 = []\n",
    "menu2 = []\n",
    "menu3 = []\n",
    "menu4 = []\n",
    "menu5 = []\n",
    "menu6 = []\n",
    "menu7 = []\n",
    "menu8 = []\n",
    "menu9 = []\n",
    "menu10 = []\n",
    "\n",
    "list_menu = [menu1, menu2, menu3, menu4, menu5, menu6, menu7, menu8, menu9, menu10]\n",
    "\n",
    "for menu in list_menu:\n",
    "    menu.append(list_plat[rd.randint(0,len(list_plat)-1)])\n",
    "    menu.append(list_boisson[rd.randint(0,len(list_boisson)-1)])\n",
    "    menu.append(list_dessert[rd.randint(0,len(list_dessert)-1)])\n",
    "\n",
    "list_menu"
   ]
  },
  {
   "cell_type": "code",
   "execution_count": null,
   "metadata": {},
   "outputs": [],
   "source": [
    "df_menu_item_prix = df_item.set_index(\"nom_item\")\n",
    "\n",
    "df_menu_item_prix.head(5)"
   ]
  },
  {
   "cell_type": "code",
   "execution_count": null,
   "metadata": {},
   "outputs": [],
   "source": [
    "df_menu = pd.DataFrame(list_menu)\n",
    "\n",
    "df_menu = df_menu.rename(columns={0:\"plat\",1:\"boisson\",2:\"dessert\"})\n",
    "\n",
    "df_menu['id_menu'] = df_menu.index\n",
    "\n",
    "df_menu[\"prix\"] = 0\n",
    "\n",
    "df_menu"
   ]
  },
  {
   "cell_type": "code",
   "execution_count": null,
   "metadata": {},
   "outputs": [],
   "source": [
    "def list_prix_fonc (list = list):\n",
    "    prix = 0\n",
    "    for i in range(len(list)):\n",
    "        prix = prix + list[i]\n",
    "    return prix * 0.9"
   ]
  },
  {
   "cell_type": "code",
   "execution_count": null,
   "metadata": {},
   "outputs": [],
   "source": [
    "po = [1,2,3]\n",
    "\n",
    "list_prix_fonc(po)"
   ]
  },
  {
   "cell_type": "code",
   "execution_count": null,
   "metadata": {},
   "outputs": [],
   "source": [
    "list_prix = []\n",
    "\n",
    "for menu in list_menu:\n",
    "    list_prix.append(round(list_prix_fonc(df_menu_item_prix.prix[menu]),2))\n",
    "\n",
    "list_prix"
   ]
  },
  {
   "cell_type": "code",
   "execution_count": null,
   "metadata": {},
   "outputs": [],
   "source": [
    "df_menu[\"prix\"] = list_prix\n",
    "\n",
    "df_menu"
   ]
  },
  {
   "attachments": {},
   "cell_type": "markdown",
   "metadata": {},
   "source": [
    "## CARTE MENU"
   ]
  },
  {
   "cell_type": "code",
   "execution_count": null,
   "metadata": {},
   "outputs": [],
   "source": [
    "list_carte_menu = []\n",
    "\n",
    "for pays in list_pays:   \n",
    "    for menu in df_menu.id_menu:\n",
    "      list_carte_menu.append({\n",
    "        \"pays\":pays,\n",
    "        \"id_menu\":menu\n",
    "      })\n",
    "\n",
    "df_carte_menu = pd.DataFrame(list_carte_menu)\n",
    "\n",
    "df_carte_menu"
   ]
  },
  {
   "attachments": {},
   "cell_type": "markdown",
   "metadata": {},
   "source": [
    "## Convert to SQL"
   ]
  },
  {
   "cell_type": "code",
   "execution_count": null,
   "metadata": {},
   "outputs": [],
   "source": [
    "df_resto"
   ]
  },
  {
   "cell_type": "code",
   "execution_count": null,
   "metadata": {},
   "outputs": [],
   "source": [
    "df_resto.info()"
   ]
  },
  {
   "cell_type": "code",
   "execution_count": null,
   "metadata": {},
   "outputs": [],
   "source": [
    "df_resto.to_sql(name='Restaurant', con=engine, if_exists = 'append', index=False)"
   ]
  },
  {
   "cell_type": "code",
   "execution_count": null,
   "metadata": {},
   "outputs": [],
   "source": [
    "df_employes"
   ]
  },
  {
   "cell_type": "code",
   "execution_count": null,
   "metadata": {},
   "outputs": [],
   "source": [
    "df_employes.to_sql(name='Employee', con=engine, if_exists = 'append', index=False)"
   ]
  },
  {
   "cell_type": "code",
   "execution_count": null,
   "metadata": {},
   "outputs": [],
   "source": [
    "df_pays"
   ]
  },
  {
   "cell_type": "code",
   "execution_count": null,
   "metadata": {},
   "outputs": [],
   "source": [
    "df_pays.to_sql(name='Pays', con=engine, if_exists = 'append', index=False)"
   ]
  },
  {
   "cell_type": "code",
   "execution_count": null,
   "metadata": {},
   "outputs": [],
   "source": [
    "df_ingredient = df_ingredient.reset_index()\n",
    "\n",
    "df_ingredient"
   ]
  },
  {
   "cell_type": "code",
   "execution_count": null,
   "metadata": {},
   "outputs": [],
   "source": [
    "df_ingredient.to_sql(name='Ingredient', con=engine, if_exists = 'append', index=False)"
   ]
  },
  {
   "cell_type": "code",
   "execution_count": null,
   "metadata": {},
   "outputs": [],
   "source": [
    "df_item"
   ]
  },
  {
   "cell_type": "code",
   "execution_count": null,
   "metadata": {},
   "outputs": [],
   "source": [
    "df_item.to_sql(name='Item', con=engine, if_exists = 'append', index=False)"
   ]
  },
  {
   "cell_type": "code",
   "execution_count": null,
   "metadata": {},
   "outputs": [],
   "source": [
    "df_stock = df_stock.reset_index()\n",
    "\n",
    "df_stock.sort_values(by=\"code_postal\")"
   ]
  },
  {
   "cell_type": "code",
   "execution_count": null,
   "metadata": {},
   "outputs": [],
   "source": [
    "df_stock.to_sql(name='Stock', con=engine, if_exists = 'append', index=False)"
   ]
  },
  {
   "cell_type": "code",
   "execution_count": null,
   "metadata": {},
   "outputs": [],
   "source": [
    "df_recette"
   ]
  },
  {
   "cell_type": "code",
   "execution_count": null,
   "metadata": {},
   "outputs": [],
   "source": [
    "df_recette.to_sql(name='Recette', con=engine, if_exists = 'append', index=False)"
   ]
  },
  {
   "cell_type": "code",
   "execution_count": null,
   "metadata": {},
   "outputs": [],
   "source": [
    "df_carte_item"
   ]
  },
  {
   "cell_type": "code",
   "execution_count": null,
   "metadata": {},
   "outputs": [],
   "source": [
    "df_carte_item.to_sql(name='CarteItem', con=engine, if_exists = 'append', index=False)"
   ]
  },
  {
   "cell_type": "code",
   "execution_count": null,
   "metadata": {},
   "outputs": [],
   "source": [
    "df_menu"
   ]
  },
  {
   "cell_type": "code",
   "execution_count": null,
   "metadata": {},
   "outputs": [],
   "source": [
    "df_menu.to_sql(name='Menu', con=engine, if_exists = 'append', index=False)"
   ]
  },
  {
   "cell_type": "code",
   "execution_count": null,
   "metadata": {},
   "outputs": [],
   "source": [
    "df_carte_menu"
   ]
  },
  {
   "cell_type": "code",
   "execution_count": null,
   "metadata": {},
   "outputs": [],
   "source": [
    "df_carte_menu.to_sql(name='CarteMenu', con=engine, if_exists = 'append', index=False)"
   ]
  }
 ],
 "metadata": {
  "kernelspec": {
   "display_name": "data",
   "language": "python",
   "name": "python3"
  },
  "language_info": {
   "codemirror_mode": {
    "name": "ipython",
    "version": 3
   },
   "file_extension": ".py",
   "mimetype": "text/x-python",
   "name": "python",
   "nbconvert_exporter": "python",
   "pygments_lexer": "ipython3",
   "version": "3.10.8"
  },
  "orig_nbformat": 4,
  "vscode": {
   "interpreter": {
    "hash": "c09735733c6285679cacaa51f91ede4e23ce045856625db662675b732ea0d9ef"
   }
  }
 },
 "nbformat": 4,
 "nbformat_minor": 2
}
